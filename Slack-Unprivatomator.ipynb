{
 "cells": [
  {
   "cell_type": "code",
   "execution_count": null,
   "id": "33c35763-7fce-4b8d-aeb0-86e2d065634b",
   "metadata": {},
   "outputs": [],
   "source": [
    "import glob\n",
    "import json\n",
    "import os\n",
    "import pathlib\n",
    "import shutil\n",
    "import zipfile\n",
    "\n",
    "# First of all you must obtain an access token by exporting some data from Slack\n",
    "INPUT_PATH = r'C:\\Users\\SimonTucker\\BackuperyForSlack_Storage\\2023_January_08-15_41_57\\ReadyToImport\\ONI_2023_January_08-15_44_33.zip'\n",
    "OUTPUT_PATH = r'C:\\Users\\SimonTucker\\Desktop\\OUTPUT'\n",
    "# INPUT_PATH = r'YOUR-SLACK-EXPORT-HERE.zip'\n",
    "# OUTPUT_PATH = r'YOUR\\OUTPUT\\DIR\\HERE'\n",
    "TOKEN = os.environ.get('TOKEN')"
   ]
  },
  {
   "cell_type": "code",
   "execution_count": null,
   "id": "cf582590",
   "metadata": {},
   "outputs": [],
   "source": [
    "tmp_dir = os.path.join(pathlib.Path(INPUT_PATH).parent.absolute(), 'tmp')\n",
    "with zipfile.ZipFile(INPUT_PATH, 'r') as zip_ref:\n",
    "    zip_ref.extractall(tmp_dir)"
   ]
  },
  {
   "cell_type": "code",
   "execution_count": null,
   "id": "33b9ad9b",
   "metadata": {},
   "outputs": [],
   "source": [
    "os.chdir(tmp_dir)\n",
    "channel_dirs = next(os.walk('.'))[1]"
   ]
  },
  {
   "cell_type": "code",
   "execution_count": null,
   "id": "0efec792-3eda-46f7-ad3f-237be165c4e4",
   "metadata": {},
   "outputs": [],
   "source": [
    "# Currently we only consider message type json objects\n",
    "# so we perform a quick test to see if there are any other types.\n",
    "# If there are other types than 'message' an investigation \n",
    "# should be performed to see what the implications of this\n",
    "# might be on the operation of the code.\n",
    "for channel_dir in channel_dirs:\n",
    "    json_files = glob.glob(os.path.join(channel_dir, '*.json'))\n",
    "    for json_file in json_files:\n",
    "        with open(json_file, 'rb') as f:\n",
    "            data = json.load(f)\n",
    "            for obj in data:\n",
    "                if obj['type'] != 'message':\n",
    "                    raise Exception(f\"WARNING: object of type '{obj['type']}' detected!\")"
   ]
  },
  {
   "cell_type": "code",
   "execution_count": null,
   "id": "e3064716-7269-49de-aa01-859f55baefa8",
   "metadata": {},
   "outputs": [],
   "source": [
    "for channel_dir in channel_dirs:\n",
    "    output_dir = os.path.join(OUTPUT_PATH, channel_dir)\n",
    "    if os.path.exists(output_dir) and os.path.isdir(output_dir):\n",
    "        shutil.rmtree(output_dir)\n",
    "    os.mkdir(output_dir)\n",
    "    json_files = glob.glob(os.path.join(channel_dir, '*.json'))\n",
    "    for json_file in json_files:\n",
    "        with open(json_file, 'rb') as open_json_file:\n",
    "            data = json.load(open_json_file)\n",
    "            for json_obj in data:\n",
    "                if 'files' in json_obj:\n",
    "                    for file in json_obj['files']:\n",
    "                        if \"url_private_download\" in file:\n",
    "                            link = f'{file[\"url_private_download\"]}?t={TOKEN}'\n",
    "                            file[\"url_private_download\"] = link\n",
    "        output_file = os.path.join(OUTPUT_PATH, json_file)\n",
    "        with open(output_file, 'w') as open_json_file:\n",
    "            json.dump(data, open_json_file, indent=4)\n",
    "        "
   ]
  },
  {
   "cell_type": "code",
   "execution_count": null,
   "id": "c5e1678d",
   "metadata": {},
   "outputs": [],
   "source": [
    "# print(os.getcwd())\n",
    "\n",
    "with open('groups.json', 'r') as f:\n",
    "    string = f.read()\n",
    "string = string.replace('\"is_group\": true', '\"is_group\": false')\n",
    "string = string.replace('\"is_private\": true', '\"is_private\": false')\n",
    "\n",
    "with open('groups.json', 'w') as f:\n",
    "    f.write(string)\n",
    "\n",
    "json_files = glob.glob('*.json')\n",
    "\n",
    "for json_file in json_files:\n",
    "    fname = os.path.join(tmp_dir, json_file)\n",
    "    shutil.move(os.path.join(fname), OUTPUT_PATH)\n",
    "\n",
    "os.chdir(OUTPUT_PATH)\n",
    "shutil.rmtree(tmp_dir)\n"
   ]
  }
 ],
 "metadata": {
  "kernelspec": {
   "display_name": "Python 3 (ipykernel)",
   "language": "python",
   "name": "python3"
  },
  "language_info": {
   "codemirror_mode": {
    "name": "ipython",
    "version": 3
   },
   "file_extension": ".py",
   "mimetype": "text/x-python",
   "name": "python",
   "nbconvert_exporter": "python",
   "pygments_lexer": "ipython3",
   "version": "3.9.12"
  },
  "vscode": {
   "interpreter": {
    "hash": "382e47d3e4027d096c698f18ab650ecd8065ba9ae9977a152d36e470391e42ac"
   }
  }
 },
 "nbformat": 4,
 "nbformat_minor": 5
}
